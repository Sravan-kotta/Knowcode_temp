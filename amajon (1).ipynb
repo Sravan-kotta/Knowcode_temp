{
  "cells": [
    {
      "cell_type": "code",
      "execution_count": 1,
      "metadata": {
        "colab": {
          "base_uri": "https://localhost:8080/"
        },
        "id": "CWDSennK6f2H",
        "outputId": "ed9239f4-9a49-46f0-d711-96434163b4ca"
      },
      "outputs": [],
      "source": [
        "\n",
        "from pyinaturalist import get_observations\n",
        "from pyinaturalist import get_places_autocomplete\n"
      ]
    },
    {
      "cell_type": "code",
      "execution_count": 2,
      "metadata": {
        "id": "22--PUktaS3T"
      },
      "outputs": [],
      "source": [
        "from pyinaturalist import get_observations\n",
        "from pyinaturalist import get_places_autocomplete"
      ]
    },
    {
      "cell_type": "code",
      "execution_count": 3,
      "metadata": {
        "id": "OrhXAHhDaB3M"
      },
      "outputs": [],
      "source": [
        "location_name = \"Mumbai\"\n",
        "\n",
        "# Fetch place details\n",
        "places = get_places_autocomplete(q=location_name)"
      ]
    },
    {
      "cell_type": "code",
      "execution_count": 4,
      "metadata": {
        "id": "aacmbpfBaXkB"
      },
      "outputs": [],
      "source": [
        "placeid = places['results'][0]['id']"
      ]
    },
    {
      "cell_type": "code",
      "execution_count": 5,
      "metadata": {
        "colab": {
          "base_uri": "https://localhost:8080/"
        },
        "id": "uUDa9DqJTY5g",
        "outputId": "329e55bc-9bf9-4929-84f1-7b29f9bb919d"
      },
      "outputs": [
        {
          "name": "stdout",
          "output_type": "stream",
          "text": [
            "Species observed in the area:\n",
            "Cenchrus\n",
            "Acrocephalus agricola\n",
            "Camponotus compressus\n",
            "Terminalia arjuna\n",
            "Strigamia\n",
            "Ficus arnottiana\n",
            "Amata cyssea\n",
            "Actitis hypoleucos\n",
            "Mimusops elengi\n",
            "Calotropis gigantea\n",
            "Acraea terpsicore\n",
            "Lannea coromandelica\n",
            "Xylocopa latipes\n",
            "Neolamarckia cadamba\n",
            "Noctuoidea\n",
            "Acacia\n",
            "Antheua\n",
            "Hamataliwa\n",
            "Argiope anasuja\n",
            "Iduna caligata\n",
            "Araneidae\n",
            "Anthus rufulus\n",
            "Scirpophaga incertulas\n",
            "Halcyon smyrnensis\n",
            "Oriolus kundoo\n",
            "Conogethes punctiferalis\n",
            "Ornithospila\n"
          ]
        }
      ],
      "source": [
        "\n",
        "\n",
        "latitude = 21.32\n",
        "longitude = 89.00\n",
        "radius = 500\n",
        "\n",
        "\n",
        "response = get_observations(\n",
        "    lat=latitude,\n",
        "    lng=longitude,\n",
        "    radius=radius,\n",
        "    order='desc',\n",
        "    order_by='created_at'\n",
        ")\n",
        "\n",
        "\n",
        "species_list = set()\n",
        "for obs in response['results']:\n",
        "    if 'taxon' in obs and obs['taxon']:\n",
        "        species_list.add(obs['taxon']['name'])\n",
        "\n",
        "print(\"Species observed in the area:\")\n",
        "for species in species_list:\n",
        "    print(species)\n"
      ]
    },
    {
      "cell_type": "code",
      "execution_count": 6,
      "metadata": {
        "colab": {
          "base_uri": "https://localhost:8080/"
        },
        "id": "NjIA6qgQhcNh",
        "outputId": "4c05f09d-6ecf-4f12-a69b-cd53c2e181df"
      },
      "outputs": [
        {
          "name": "stdout",
          "output_type": "stream",
          "text": [
            "Species observed in the area:\n",
            "Petaloconchus\n",
            "Palythoa mutuki\n",
            "Leptocoma zeylonica\n",
            "Ceriagrion\n",
            "Nudibranchia\n",
            "Delias eucharis\n",
            "Volegalea cochlidium\n",
            "Hypolimnas bolina\n",
            "Papilio polytes\n",
            "Euploea klugii\n",
            "Mauritia arabica\n",
            "Chitonina\n",
            "Larus fuscus\n",
            "Cheilomenes sexmaculata\n",
            "Acraea terpsicore\n",
            "Melochia\n",
            "Columbidae\n",
            "Charaxes solon\n",
            "Crotalaria retusa\n",
            "Bornella stellifera\n",
            "Ardea coromanda\n",
            "Colotis amata\n",
            "Graphium agamemnon\n",
            "Anthopleura dixoniana\n",
            "Gastropoda\n",
            "Caulerpa\n",
            "Columba livia\n",
            "Ardea cinerea\n",
            "Tethya\n",
            "Milvus migrans\n",
            "Macrophiothrix\n",
            "Stephanidae\n",
            "Euploea core\n",
            "Haliclona caerulea\n",
            "Egretta garzetta\n",
            "Thespesia\n",
            "Ariadne merione\n",
            "Ixias pyrene\n",
            "Trochus radiatus\n",
            "Papilio demoleus\n",
            "Larus\n",
            "Castalius rosimon\n",
            "Couroupita guianensis\n"
          ]
        }
      ],
      "source": [
        "response = get_observations(\n",
        "    place_id=placeid,\n",
        "    radius=radius,\n",
        "    per_page=50,\n",
        "    order='desc',\n",
        "    order_by='created_at'\n",
        ")\n",
        "\n",
        "\n",
        "species_list = set()\n",
        "for obs in response['results']:\n",
        "    if 'taxon' in obs and obs['taxon']:\n",
        "        species_list.add(obs['taxon']['name'])\n",
        "\n",
        "print(\"Species observed in the area:\")\n",
        "for species in species_list:\n",
        "    print(species)"
      ]
    },
    {
      "cell_type": "code",
      "execution_count": 8,
      "metadata": {
        "colab": {
          "base_uri": "https://localhost:8080/"
        },
        "id": "MxXg19RiKAJy",
        "outputId": "36ce238a-3019-4efb-daff-bbc1819f408f"
      },
      "outputs": [
        {
          "name": "stdout",
          "output_type": "stream",
          "text": [
            "Near Threatened\n"
          ]
        }
      ],
      "source": [
        "import requests\n",
        "\n",
        "# Define API endpoint and headers\n",
        "genus = \"Aptenodytes\"\n",
        "species = \"forsteri\"\n",
        "url1 = f\"https://api.iucnredlist.org/api/v4/taxa/scientific_name?genus_name={genus}&species_name=%20{species}\"\n",
        "headers = {\n",
        "    \"accept\": \"application/json\",\n",
        "    \"Authorization\": \"XZEAWUn3f5fty6W5YgJLmQsrkB7XFUEchBBL\"  # Replace with your actual API key\n",
        "}\n",
        "\n",
        "# Make the GET request\n",
        "response = requests.get(url1, headers=headers)\n",
        "\n",
        "# Check if the request was successful\n",
        "if response.status_code == 200:\n",
        "    data = response.json()\n",
        "    ass_id = data['assessments'][0]['assessment_id']\n",
        "else:\n",
        "    print(f\"Error: {response.status_code}, {response.text}\")\n",
        "\n",
        "url2 = f\"https://api.iucnredlist.org/api/v4/assessment/{ass_id}\"\n",
        "response = requests.get(url2, headers=headers)\n",
        "\n",
        "if response.status_code == 200:\n",
        "    data = response.json()\n",
        "    status = data['red_list_category']['description']['en']\n",
        "    print(status)\n",
        "else:\n",
        "    print(f\"Error: {response.status_code}, {response.text}\")\n",
        "\n"
      ]
    }
  ],
  "metadata": {
    "colab": {
      "provenance": []
    },
    "kernelspec": {
      "display_name": "base",
      "language": "python",
      "name": "python3"
    },
    "language_info": {
      "codemirror_mode": {
        "name": "ipython",
        "version": 3
      },
      "file_extension": ".py",
      "mimetype": "text/x-python",
      "name": "python",
      "nbconvert_exporter": "python",
      "pygments_lexer": "ipython3",
      "version": "3.12.4"
    }
  },
  "nbformat": 4,
  "nbformat_minor": 0
}
